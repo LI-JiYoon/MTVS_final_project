{
  "nbformat": 4,
  "nbformat_minor": 0,
  "metadata": {
    "colab": {
      "provenance": []
    },
    "kernelspec": {
      "name": "python3",
      "display_name": "Python 3"
    },
    "language_info": {
      "name": "python"
    }
  },
  "cells": [
    {
      "cell_type": "code",
      "source": [
        "!pip install konlpy"
      ],
      "metadata": {
        "colab": {
          "base_uri": "https://localhost:8080/"
        },
        "id": "7z3v_r17vph9",
        "outputId": "2c3a3a30-e9da-4c32-d255-70ae4dcdd81f"
      },
      "execution_count": 18,
      "outputs": [
        {
          "output_type": "stream",
          "name": "stdout",
          "text": [
            "Looking in indexes: https://pypi.org/simple, https://us-python.pkg.dev/colab-wheels/public/simple/\n",
            "Collecting konlpy\n",
            "  Downloading konlpy-0.6.0-py2.py3-none-any.whl (19.4 MB)\n",
            "\u001b[K     |████████████████████████████████| 19.4 MB 1.4 MB/s \n",
            "\u001b[?25hCollecting JPype1>=0.7.0\n",
            "  Downloading JPype1-1.4.0-cp37-cp37m-manylinux_2_5_x86_64.manylinux1_x86_64.whl (453 kB)\n",
            "\u001b[K     |████████████████████████████████| 453 kB 52.0 MB/s \n",
            "\u001b[?25hRequirement already satisfied: numpy>=1.6 in /usr/local/lib/python3.7/dist-packages (from konlpy) (1.21.6)\n",
            "Requirement already satisfied: lxml>=4.1.0 in /usr/local/lib/python3.7/dist-packages (from konlpy) (4.9.1)\n",
            "Requirement already satisfied: typing-extensions in /usr/local/lib/python3.7/dist-packages (from JPype1>=0.7.0->konlpy) (4.1.1)\n",
            "Installing collected packages: JPype1, konlpy\n",
            "Successfully installed JPype1-1.4.0 konlpy-0.6.0\n"
          ]
        }
      ]
    },
    {
      "cell_type": "code",
      "source": [
        "import pandas as pd\n",
        "from sklearn.feature_extraction.text import TfidfVectorizer\n",
        "from sklearn.metrics.pairwise import cosine_similarity"
      ],
      "metadata": {
        "id": "wib1g5dkY_en"
      },
      "execution_count": 1,
      "outputs": []
    },
    {
      "cell_type": "code",
      "source": [
        "#전공데이터셋을 받아옵니다\n",
        "data = pd.read_csv('/content/drive/MyDrive/rapa/융합프로젝트/전공데이터.csv', low_memory=False)\n",
        "data.head(2)"
      ],
      "metadata": {
        "colab": {
          "base_uri": "https://localhost:8080/",
          "height": 112
        },
        "id": "CoFKb418ZFpX",
        "outputId": "debb2ff2-0fb8-414f-df33-9ed218efbcae"
      },
      "execution_count": 2,
      "outputs": [
        {
          "output_type": "execute_result",
          "data": {
            "text/plain": [
              "     대학명   단대명  학부/학과명                                               커리큘럼\n",
              "0  서울대학교  공과대학  컴퓨터공학부  컴퓨터과학이 여는 세계,컴퓨터과학적 사고와 실습,인공지능 입문,\\t인터넷 보안과 프...\n",
              "1  서울대학교  미술대학    동양화과  한국미술과 문화\\t,서양미술사,동양화 기초,\\t평면조형,평면조형,입체조형,\\t기초시..."
            ],
            "text/html": [
              "\n",
              "  <div id=\"df-c0b7cb84-3f52-40bb-a64a-a72d88477936\">\n",
              "    <div class=\"colab-df-container\">\n",
              "      <div>\n",
              "<style scoped>\n",
              "    .dataframe tbody tr th:only-of-type {\n",
              "        vertical-align: middle;\n",
              "    }\n",
              "\n",
              "    .dataframe tbody tr th {\n",
              "        vertical-align: top;\n",
              "    }\n",
              "\n",
              "    .dataframe thead th {\n",
              "        text-align: right;\n",
              "    }\n",
              "</style>\n",
              "<table border=\"1\" class=\"dataframe\">\n",
              "  <thead>\n",
              "    <tr style=\"text-align: right;\">\n",
              "      <th></th>\n",
              "      <th>대학명</th>\n",
              "      <th>단대명</th>\n",
              "      <th>학부/학과명</th>\n",
              "      <th>커리큘럼</th>\n",
              "    </tr>\n",
              "  </thead>\n",
              "  <tbody>\n",
              "    <tr>\n",
              "      <th>0</th>\n",
              "      <td>서울대학교</td>\n",
              "      <td>공과대학</td>\n",
              "      <td>컴퓨터공학부</td>\n",
              "      <td>컴퓨터과학이 여는 세계,컴퓨터과학적 사고와 실습,인공지능 입문,\\t인터넷 보안과 프...</td>\n",
              "    </tr>\n",
              "    <tr>\n",
              "      <th>1</th>\n",
              "      <td>서울대학교</td>\n",
              "      <td>미술대학</td>\n",
              "      <td>동양화과</td>\n",
              "      <td>한국미술과 문화\\t,서양미술사,동양화 기초,\\t평면조형,평면조형,입체조형,\\t기초시...</td>\n",
              "    </tr>\n",
              "  </tbody>\n",
              "</table>\n",
              "</div>\n",
              "      <button class=\"colab-df-convert\" onclick=\"convertToInteractive('df-c0b7cb84-3f52-40bb-a64a-a72d88477936')\"\n",
              "              title=\"Convert this dataframe to an interactive table.\"\n",
              "              style=\"display:none;\">\n",
              "        \n",
              "  <svg xmlns=\"http://www.w3.org/2000/svg\" height=\"24px\"viewBox=\"0 0 24 24\"\n",
              "       width=\"24px\">\n",
              "    <path d=\"M0 0h24v24H0V0z\" fill=\"none\"/>\n",
              "    <path d=\"M18.56 5.44l.94 2.06.94-2.06 2.06-.94-2.06-.94-.94-2.06-.94 2.06-2.06.94zm-11 1L8.5 8.5l.94-2.06 2.06-.94-2.06-.94L8.5 2.5l-.94 2.06-2.06.94zm10 10l.94 2.06.94-2.06 2.06-.94-2.06-.94-.94-2.06-.94 2.06-2.06.94z\"/><path d=\"M17.41 7.96l-1.37-1.37c-.4-.4-.92-.59-1.43-.59-.52 0-1.04.2-1.43.59L10.3 9.45l-7.72 7.72c-.78.78-.78 2.05 0 2.83L4 21.41c.39.39.9.59 1.41.59.51 0 1.02-.2 1.41-.59l7.78-7.78 2.81-2.81c.8-.78.8-2.07 0-2.86zM5.41 20L4 18.59l7.72-7.72 1.47 1.35L5.41 20z\"/>\n",
              "  </svg>\n",
              "      </button>\n",
              "      \n",
              "  <style>\n",
              "    .colab-df-container {\n",
              "      display:flex;\n",
              "      flex-wrap:wrap;\n",
              "      gap: 12px;\n",
              "    }\n",
              "\n",
              "    .colab-df-convert {\n",
              "      background-color: #E8F0FE;\n",
              "      border: none;\n",
              "      border-radius: 50%;\n",
              "      cursor: pointer;\n",
              "      display: none;\n",
              "      fill: #1967D2;\n",
              "      height: 32px;\n",
              "      padding: 0 0 0 0;\n",
              "      width: 32px;\n",
              "    }\n",
              "\n",
              "    .colab-df-convert:hover {\n",
              "      background-color: #E2EBFA;\n",
              "      box-shadow: 0px 1px 2px rgba(60, 64, 67, 0.3), 0px 1px 3px 1px rgba(60, 64, 67, 0.15);\n",
              "      fill: #174EA6;\n",
              "    }\n",
              "\n",
              "    [theme=dark] .colab-df-convert {\n",
              "      background-color: #3B4455;\n",
              "      fill: #D2E3FC;\n",
              "    }\n",
              "\n",
              "    [theme=dark] .colab-df-convert:hover {\n",
              "      background-color: #434B5C;\n",
              "      box-shadow: 0px 1px 3px 1px rgba(0, 0, 0, 0.15);\n",
              "      filter: drop-shadow(0px 1px 2px rgba(0, 0, 0, 0.3));\n",
              "      fill: #FFFFFF;\n",
              "    }\n",
              "  </style>\n",
              "\n",
              "      <script>\n",
              "        const buttonEl =\n",
              "          document.querySelector('#df-c0b7cb84-3f52-40bb-a64a-a72d88477936 button.colab-df-convert');\n",
              "        buttonEl.style.display =\n",
              "          google.colab.kernel.accessAllowed ? 'block' : 'none';\n",
              "\n",
              "        async function convertToInteractive(key) {\n",
              "          const element = document.querySelector('#df-c0b7cb84-3f52-40bb-a64a-a72d88477936');\n",
              "          const dataTable =\n",
              "            await google.colab.kernel.invokeFunction('convertToInteractive',\n",
              "                                                     [key], {});\n",
              "          if (!dataTable) return;\n",
              "\n",
              "          const docLinkHtml = 'Like what you see? Visit the ' +\n",
              "            '<a target=\"_blank\" href=https://colab.research.google.com/notebooks/data_table.ipynb>data table notebook</a>'\n",
              "            + ' to learn more about interactive tables.';\n",
              "          element.innerHTML = '';\n",
              "          dataTable['output_type'] = 'display_data';\n",
              "          await google.colab.output.renderOutput(dataTable, element);\n",
              "          const docLink = document.createElement('div');\n",
              "          docLink.innerHTML = docLinkHtml;\n",
              "          element.appendChild(docLink);\n",
              "        }\n",
              "      </script>\n",
              "    </div>\n",
              "  </div>\n",
              "  "
            ]
          },
          "metadata": {},
          "execution_count": 2
        }
      ]
    },
    {
      "cell_type": "code",
      "source": [
        "from konlpy.tag import Okt\n",
        "okt = Okt()\n",
        "# =======================================================    \n",
        "# 형태소(POS)가 명사,동사,알파벳,숫자에 해당되는 단어 추출\n",
        "# 정규화(normalization) 어간추출(stemming) 처리\n",
        "# =======================================================    \n",
        "def tokenizer(raw_texts, pos=[\"Noun\",\"Alpha\",\"Verb\",\"Number\"], stopword=[]):\n",
        "    p = okt.pos(raw_texts, \n",
        "            norm=True,   # 정규화(normalization)\n",
        "            stem=True    # 어간추출(stemming)\n",
        "            )\n",
        "    o = [word for word, tag in p if len(word) > 1 and tag in pos and word not in stopword]\n",
        "    return(o)\n",
        "\n",
        "tokenizer( data['커리큘럼'][0])"
      ],
      "metadata": {
        "colab": {
          "base_uri": "https://localhost:8080/"
        },
        "id": "ypid9YTowhni",
        "outputId": "df0bdf24-6d0d-43ba-9f65-bd789bc4ffb3"
      },
      "execution_count": 25,
      "outputs": [
        {
          "output_type": "execute_result",
          "data": {
            "text/plain": [
              "['컴퓨터과학',\n",
              " '세계',\n",
              " '컴퓨터과학',\n",
              " '사고',\n",
              " '실습',\n",
              " '인공',\n",
              " '지능',\n",
              " '입문',\n",
              " '인터넷',\n",
              " '보안',\n",
              " '프라이버시',\n",
              " '이산수학',\n",
              " '프로그래밍',\n",
              " '연습',\n",
              " '공학',\n",
              " '수학',\n",
              " '전기',\n",
              " '전자회로',\n",
              " '컴퓨터',\n",
              " '구조',\n",
              " '컴퓨터',\n",
              " '프로그래밍',\n",
              " '논리',\n",
              " '설계',\n",
              " '자료구조',\n",
              " '컴퓨터공학',\n",
              " '세미나',\n",
              " '프로그래밍',\n",
              " '원리',\n",
              " '알고리즘',\n",
              " '시스템',\n",
              " '프로그래밍',\n",
              " '오토마타',\n",
              " '이론',\n",
              " '운영체제',\n",
              " '하드웨어',\n",
              " '시스템',\n",
              " '설계',\n",
              " '프로그래밍언어',\n",
              " '선형',\n",
              " '비선형',\n",
              " '계산',\n",
              " '모델',\n",
              " '디지털',\n",
              " '신호처리',\n",
              " '창의',\n",
              " '통합',\n",
              " '설계',\n",
              " '데이터마이닝',\n",
              " '개론',\n",
              " '데이터베이스',\n",
              " '데이터',\n",
              " '통신',\n",
              " '소프트웨어',\n",
              " '개발',\n",
              " '원리',\n",
              " '실습',\n",
              " 'IT',\n",
              " '창업',\n",
              " '개론',\n",
              " '임베디드',\n",
              " '시스템',\n",
              " '응용',\n",
              " '소프트웨어',\n",
              " '공학',\n",
              " '소프트웨어',\n",
              " '응용',\n",
              " '모바일',\n",
              " '컴퓨팅',\n",
              " '응용',\n",
              " '인공',\n",
              " '지능',\n",
              " '컴파일러',\n",
              " '컴퓨터그래픽스',\n",
              " '컴퓨터',\n",
              " '네트워크',\n",
              " '컴퓨터',\n",
              " '모델링',\n",
              " '멀티코어',\n",
              " '컴퓨팅',\n",
              " '컴퓨터',\n",
              " '보안',\n",
              " '정보',\n",
              " '시스템',\n",
              " 'IT',\n",
              " '리더십',\n",
              " '세미나',\n",
              " '컴퓨터',\n",
              " '융합',\n",
              " '응용',\n",
              " '인간',\n",
              " '컴퓨터',\n",
              " '상호작용',\n",
              " '소셜',\n",
              " '네트워크',\n",
              " '분석',\n",
              " '기계학습',\n",
              " '개론',\n",
              " '창의',\n",
              " '통합',\n",
              " '설계',\n",
              " '컴퓨터',\n",
              " '비다',\n",
              " '컴퓨터',\n",
              " '기술',\n",
              " '특강',\n",
              " '인터넷',\n",
              " '보안',\n",
              " '양자',\n",
              " '컴퓨팅',\n",
              " '정보',\n",
              " '기초',\n",
              " '블록',\n",
              " '체인',\n",
              " '이해',\n",
              " '러닝',\n",
              " '기초']"
            ]
          },
          "metadata": {},
          "execution_count": 25
        }
      ]
    },
    {
      "cell_type": "code",
      "source": [
        "from sklearn.feature_extraction.text import TfidfVectorizer\n",
        "\n",
        "tfidf_vectorize = TfidfVectorizer(\n",
        "    tokenizer=tokenizer, # 문장에 대한 tokenizer (위에 정의한 함수 이용)\n",
        "    min_df=1,            # 단어가 출현하는 최소 문서의 개수\n",
        "    sublinear_tf=True    # tf값에 1+log(tf)를 적용하여 tf값이 무한정 커지는 것을 막음\n",
        ")\n",
        "\n",
        "tfidf_matrix = tfidf_vectorize.fit_transform(data['커리큘럼'])"
      ],
      "metadata": {
        "id": "jcFLdtl0w8BU"
      },
      "execution_count": 30,
      "outputs": []
    },
    {
      "cell_type": "code",
      "source": [
        "cosine_sim = cosine_similarity(tfidf_matrix, tfidf_matrix)\n",
        "print('코사인 유사도 연산 결과 :',cosine_sim.shape)"
      ],
      "metadata": {
        "colab": {
          "base_uri": "https://localhost:8080/"
        },
        "id": "NREjhBIlZOgk",
        "outputId": "25dd9708-71a2-4b16-87f6-f9f49d0a209d"
      },
      "execution_count": 31,
      "outputs": [
        {
          "output_type": "stream",
          "name": "stdout",
          "text": [
            "코사인 유사도 연산 결과 : (51, 51)\n"
          ]
        }
      ]
    },
    {
      "cell_type": "code",
      "source": [
        "#기존 데이터프레임으로부터 전공의 이름을 key, 전공의 인덱스를 value로 하는 딕셔너리 title_to_index를 만들어둡니다.\n",
        "title_to_index = dict(zip(data['학부/학과명'], data.index))\n"
      ],
      "metadata": {
        "id": "iiCoSRl-ZTAW"
      },
      "execution_count": 32,
      "outputs": []
    },
    {
      "cell_type": "code",
      "source": [
        "# 전공명 의 인덱스를 리턴\n",
        "idx = title_to_index['컴퓨터공학부']\n",
        "print(idx)"
      ],
      "metadata": {
        "colab": {
          "base_uri": "https://localhost:8080/"
        },
        "id": "DQeZRLWfZZk3",
        "outputId": "cf0e6e29-1be4-417e-db55-1ffa31bec2b4"
      },
      "execution_count": 33,
      "outputs": [
        {
          "output_type": "stream",
          "name": "stdout",
          "text": [
            "0\n"
          ]
        }
      ]
    },
    {
      "cell_type": "code",
      "execution_count": 23,
      "metadata": {
        "id": "fBSNaVh8YyTd"
      },
      "outputs": [],
      "source": [
        "X#선택한 전공명을 입력하면 코사인 유사도를 통해 가장 커리큘럼이 유사한 10개의 학과를 찾아내는 함수를 만듭니다.\n",
        "def get_recommendations(major, cosine_sim=cosine_sim):\n",
        "    # 선택한 전공명으로부터 해당 전공의 인덱스를 받아온다.\n",
        "    idx = title_to_index[major]\n",
        "\n",
        "    # 해당 전공과 모든 전공과의 유사도를 가져온다.\n",
        "    sim_scores = list(enumerate(cosine_sim[idx]))\n",
        "\n",
        "    # 유사도에 따라 전공들을 정렬한다.\n",
        "    sim_scores = sorted(sim_scores, key=lambda x: x[1], reverse=True)\n",
        "\n",
        "    # 가장 유사한 10개의 전공들을 받아온다.\n",
        "    sim_scores = sim_scores[1:11]\n",
        "\n",
        "    # 가장 유사한 10개의 전공의 인덱스를 얻는다.\n",
        "    major_indices = [idx[0] for idx in sim_scores]\n",
        "\n",
        "    # 가장 유사한 10개의 전공의 이름을 리턴한다.\n",
        "    return data['학부/학과명'].iloc[major_indices]"
      ]
    },
    {
      "cell_type": "code",
      "source": [
        "#전공 시각디자인학전공과 유사한 전공들을 찾아보겠습니다.\n",
        "\n",
        "get_recommendations('시각디자인학전공')"
      ],
      "metadata": {
        "colab": {
          "base_uri": "https://localhost:8080/"
        },
        "id": "aj_1dwpGZxrE",
        "outputId": "915333ba-d65d-4241-9278-d6406f9a6eb2"
      },
      "execution_count": 34,
      "outputs": [
        {
          "output_type": "execute_result",
          "data": {
            "text/plain": [
              "5       디자인학부(디자인)\n",
              "20         산업정보디자인\n",
              "47     커뮤니케이션디자인학과\n",
              "21            조형미술\n",
              "31    디자인학과(시각디자인)\n",
              "7            정보문화학\n",
              "32    디자인학과(써피스디자인\n",
              "11        산업디자인학전공\n",
              "13        디지털아트학전공\n",
              "44       컬처테크놀로지전공\n",
              "Name: 학부/학과명, dtype: object"
            ]
          },
          "metadata": {},
          "execution_count": 34
        }
      ]
    },
    {
      "cell_type": "code",
      "source": [
        "#전공 미래모빌리티학과와 유사한 전공들을 찾아보겠습니다.\n",
        "\n",
        "get_recommendations('미래모빌리티학과')"
      ],
      "metadata": {
        "colab": {
          "base_uri": "https://localhost:8080/"
        },
        "id": "ghwwjfNXy5VX",
        "outputId": "0767f7f0-a667-4f4c-c31c-3927b85a243f"
      },
      "execution_count": 35,
      "outputs": [
        {
          "output_type": "execute_result",
          "data": {
            "text/plain": [
              "15                                  컴퓨터학\n",
              "24                          컴퓨터융합소프트웨어학과\n",
              "14                               소프트웨어전공\n",
              "35                               소프트웨어학과\n",
              "10                                 인공지능학\n",
              "48                            신산업소프트웨어전공\n",
              "33                   글로벌융합학부 데이터사이언스융합전공\n",
              "0                                 컴퓨터공학부\n",
              "50                              산업인공지능전공\n",
              "29    인공지능(Artificial Intelligence) 연계전공\n",
              "Name: 학부/학과명, dtype: object"
            ]
          },
          "metadata": {},
          "execution_count": 35
        }
      ]
    },
    {
      "cell_type": "code",
      "source": [],
      "metadata": {
        "id": "490zqJWOzBUn"
      },
      "execution_count": null,
      "outputs": []
    }
  ]
}